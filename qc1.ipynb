{
  "nbformat": 4,
  "nbformat_minor": 0,
  "metadata": {
    "colab": {
      "provenance": [],
      "gpuType": "V28",
      "authorship_tag": "ABX9TyM4FVXBOVruE9Rnc4RaO45G",
      "include_colab_link": true
    },
    "kernelspec": {
      "name": "python3",
      "display_name": "Python 3"
    },
    "language_info": {
      "name": "python"
    },
    "accelerator": "TPU"
  },
  "cells": [
    {
      "cell_type": "markdown",
      "metadata": {
        "id": "view-in-github",
        "colab_type": "text"
      },
      "source": [
        "<a href=\"https://colab.research.google.com/github/porterpi/quantumn-programing/blob/main/qc1.ipynb\" target=\"_parent\"><img src=\"https://colab.research.google.com/assets/colab-badge.svg\" alt=\"Open In Colab\"/></a>"
      ]
    },
    {
      "cell_type": "code",
      "source": [
        "%pip install qiskit qiskit-aer matplotlib"
      ],
      "metadata": {
        "colab": {
          "base_uri": "https://localhost:8080/"
        },
        "id": "wbGk9RU15mZh",
        "outputId": "320f12a0-4b03-4eeb-bdd8-ef68048fad1e"
      },
      "execution_count": null,
      "outputs": [
        {
          "output_type": "stream",
          "name": "stdout",
          "text": [
            "Requirement already satisfied: qiskit in /usr/local/lib/python3.12/dist-packages (2.1.2)\n",
            "Requirement already satisfied: qiskit-aer in /usr/local/lib/python3.12/dist-packages (0.17.1)\n",
            "Requirement already satisfied: matplotlib in /usr/local/lib/python3.12/dist-packages (3.10.0)\n",
            "Requirement already satisfied: rustworkx>=0.15.0 in /usr/local/lib/python3.12/dist-packages (from qiskit) (0.17.1)\n",
            "Requirement already satisfied: numpy<3,>=1.17 in /usr/local/lib/python3.12/dist-packages (from qiskit) (2.0.2)\n",
            "Requirement already satisfied: scipy>=1.5 in /usr/local/lib/python3.12/dist-packages (from qiskit) (1.16.1)\n",
            "Requirement already satisfied: dill>=0.3 in /usr/local/lib/python3.12/dist-packages (from qiskit) (0.4.0)\n",
            "Requirement already satisfied: stevedore>=3.0.0 in /usr/local/lib/python3.12/dist-packages (from qiskit) (5.5.0)\n",
            "Requirement already satisfied: typing-extensions in /usr/local/lib/python3.12/dist-packages (from qiskit) (4.15.0)\n",
            "Requirement already satisfied: psutil>=5 in /usr/local/lib/python3.12/dist-packages (from qiskit-aer) (5.9.5)\n",
            "Requirement already satisfied: python-dateutil>=2.8.0 in /usr/local/lib/python3.12/dist-packages (from qiskit-aer) (2.9.0.post0)\n",
            "Requirement already satisfied: contourpy>=1.0.1 in /usr/local/lib/python3.12/dist-packages (from matplotlib) (1.3.3)\n",
            "Requirement already satisfied: cycler>=0.10 in /usr/local/lib/python3.12/dist-packages (from matplotlib) (0.12.1)\n",
            "Requirement already satisfied: fonttools>=4.22.0 in /usr/local/lib/python3.12/dist-packages (from matplotlib) (4.59.1)\n",
            "Requirement already satisfied: kiwisolver>=1.3.1 in /usr/local/lib/python3.12/dist-packages (from matplotlib) (1.4.9)\n",
            "Requirement already satisfied: packaging>=20.0 in /usr/local/lib/python3.12/dist-packages (from matplotlib) (25.0)\n",
            "Requirement already satisfied: pillow>=8 in /usr/local/lib/python3.12/dist-packages (from matplotlib) (11.3.0)\n",
            "Requirement already satisfied: pyparsing>=2.3.1 in /usr/local/lib/python3.12/dist-packages (from matplotlib) (3.2.3)\n",
            "Requirement already satisfied: six>=1.5 in /usr/local/lib/python3.12/dist-packages (from python-dateutil>=2.8.0->qiskit-aer) (1.17.0)\n"
          ]
        }
      ]
    },
    {
      "cell_type": "code",
      "execution_count": null,
      "metadata": {
        "id": "V9HSt4QdzBF4"
      },
      "outputs": [],
      "source": [
        "# Import the necessary components from Qiskit\n",
        "from qiskit import QuantumCircuit, transpile\n",
        "from qiskit_aer import AerSimulator\n",
        "from qiskit.visualization import plot_histogram\n",
        "import matplotlib.pyplot as plt"
      ]
    },
    {
      "cell_type": "code",
      "source": [
        "# --- 1. Create a Quantum Circuit ---\n",
        "# We'll use one qubit to demonstrate superposition and one classical bit to store the measurement.\n",
        "qc = QuantumCircuit(1, 1)"
      ],
      "metadata": {
        "id": "NjdVDfx95ut9"
      },
      "execution_count": null,
      "outputs": []
    },
    {
      "cell_type": "code",
      "source": [
        "# --- 2. Apply a Hadamard Gate ---\n",
        "# The Hadamard gate (H gate) is a fundamental quantum gate.\n",
        "# After applying an H gate to a qubit initialized to |0>, its state becomes (|0> + |1>)/sqrt(2).\n",
        "qc.h(0) # Apply the H gate to the first qubit (at index 0)."
      ],
      "metadata": {
        "colab": {
          "base_uri": "https://localhost:8080/"
        },
        "id": "A1FngJ_j5uw4",
        "outputId": "34fdc682-09a9-4694-8733-f77dc4db09d1"
      },
      "execution_count": null,
      "outputs": [
        {
          "output_type": "execute_result",
          "data": {
            "text/plain": [
              "<qiskit.circuit.instructionset.InstructionSet at 0x7bfbd55354e0>"
            ]
          },
          "metadata": {},
          "execution_count": 18
        }
      ]
    },
    {
      "cell_type": "code",
      "source": [
        "# --- 3. Add a Measurement Operation ---\n",
        "# We measure the qubit to see the outcome of the superposition.\n",
        "# The measurement will collapse the superposition to either 0 or 1.\n",
        "qc.measure(0, 0)"
      ],
      "metadata": {
        "colab": {
          "base_uri": "https://localhost:8080/"
        },
        "id": "0RlRysJ55u0P",
        "outputId": "53717367-92ab-4adf-e7ba-e83111f82e55"
      },
      "execution_count": null,
      "outputs": [
        {
          "output_type": "execute_result",
          "data": {
            "text/plain": [
              "<qiskit.circuit.instructionset.InstructionSet at 0x7bfbd5535570>"
            ]
          },
          "metadata": {},
          "execution_count": 19
        }
      ]
    },
    {
      "cell_type": "code",
      "source": [
        "# --- 4. Choose a Backend, Transpile, and Run ---\n",
        "simulator = AerSimulator()\n",
        "compiled_circuit = transpile(qc, simulator)\n",
        "# We run the circuit many times (shots) to see the probability distribution.\n",
        "job = simulator.run(compiled_circuit, shots=1024)"
      ],
      "metadata": {
        "id": "xZp5exwg6Edq"
      },
      "execution_count": null,
      "outputs": []
    },
    {
      "cell_type": "code",
      "source": [
        "# --- 5. Get and Display the Results ---\n",
        "result = job.result()\n",
        "counts = result.get_counts(qc)\n",
        "print(\"\\nTotal counts for 0 and 1 are:\", counts)\n",
        "# Because the qubit was in superposition, we expect to measure '0' and '1'\n",
        "# roughly 50% of the time each."
      ],
      "metadata": {
        "colab": {
          "base_uri": "https://localhost:8080/"
        },
        "id": "lJgOtcVT6Egd",
        "outputId": "70eedd8c-035f-4538-c41f-cef9c0e00d10"
      },
      "execution_count": null,
      "outputs": [
        {
          "output_type": "stream",
          "name": "stdout",
          "text": [
            "\n",
            "Total counts for 0 and 1 are: {'0': 511, '1': 513}\n"
          ]
        }
      ]
    },
    {
      "cell_type": "code",
      "source": [
        "# Draw the circuit to visualize it.\n",
        "print(\"\\nCircuit Diagram:\")\n",
        "print(qc.draw())"
      ],
      "metadata": {
        "colab": {
          "base_uri": "https://localhost:8080/"
        },
        "id": "1uC_5Qao6Ej5",
        "outputId": "be0cc139-2eb1-4cc9-cd45-7cd4f09a4b0f"
      },
      "execution_count": null,
      "outputs": [
        {
          "output_type": "stream",
          "name": "stdout",
          "text": [
            "\n",
            "Circuit Diagram:\n",
            "     ┌───┐┌─┐\n",
            "  q: ┤ H ├┤M├\n",
            "     └───┘└╥┘\n",
            "c: 1/══════╩═\n",
            "           0 \n"
          ]
        }
      ]
    },
    {
      "cell_type": "code",
      "source": [
        "\n",
        "\n",
        "# Plot the results as a histogram.\n",
        "print(\"\\nPlotting Histogram...\")\n",
        "plot_histogram(counts)\n",
        "plt.show()"
      ],
      "metadata": {
        "colab": {
          "base_uri": "https://localhost:8080/"
        },
        "id": "D4t-F5jS6fMP",
        "outputId": "0ce0f541-865d-4a1d-e209-9fecb82e46ef"
      },
      "execution_count": null,
      "outputs": [
        {
          "output_type": "stream",
          "name": "stdout",
          "text": [
            "\n",
            "Plotting Histogram...\n"
          ]
        }
      ]
    },
    {
      "cell_type": "code",
      "source": [
        "# Plot the results as a histogram.\n",
        "print(\"\\nPlotting Histogram...\")\n",
        "# The plot_histogram function returns a matplotlib Figure object.\n",
        "figure = plot_histogram(counts)"
      ],
      "metadata": {
        "colab": {
          "base_uri": "https://localhost:8080/"
        },
        "id": "5jZEpVLS7cbB",
        "outputId": "0eb7bc22-d6cd-4068-e72f-c710efdd19c4"
      },
      "execution_count": null,
      "outputs": [
        {
          "output_type": "stream",
          "name": "stdout",
          "text": [
            "\n",
            "Plotting Histogram...\n"
          ]
        }
      ]
    },
    {
      "cell_type": "code",
      "source": [
        "# Save the plot to a file. This is a reliable way to see the result\n",
        "# even if a plot window doesn't open automatically.\n",
        "output_filename = \"superposition_histogram.png\"\n",
        "figure.savefig(output_filename)\n",
        "print(f\"Histogram saved to file: {output_filename}\")"
      ],
      "metadata": {
        "colab": {
          "base_uri": "https://localhost:8080/"
        },
        "id": "Q2BSBdsd7cdr",
        "outputId": "4485f05f-185a-409b-ca31-6f8c1f22b90f"
      },
      "execution_count": null,
      "outputs": [
        {
          "output_type": "stream",
          "name": "stdout",
          "text": [
            "Histogram saved to file: superposition_histogram.png\n"
          ]
        }
      ]
    },
    {
      "cell_type": "code",
      "source": [
        "# plt.show() attempts to open a new window to display the plot.\n",
        "# This may not work in all environments. If no window appears,\n",
        "# you can view the output by checking for the saved image file.\n",
        "plt.show()"
      ],
      "metadata": {
        "id": "yT_Y9cMz7chF"
      },
      "execution_count": null,
      "outputs": []
    }
  ]
}